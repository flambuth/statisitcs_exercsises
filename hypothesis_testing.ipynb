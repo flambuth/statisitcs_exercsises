{
 "cells": [
  {
   "cell_type": "code",
   "execution_count": 58,
   "metadata": {},
   "outputs": [],
   "source": [
    "%matplotlib inline\n",
    "import matplotlib.pyplot as plt\n",
    "import numpy as np\n",
    "import pandas as pd\n",
    "from math import sqrt\n",
    "from scipy import stats\n",
    "import seaborn as sns\n",
    "from pydataset import data\n",
    "from fredstats import get_db_url, make_df_from_db\n",
    "from env import host, user, password"
   ]
  },
  {
   "cell_type": "code",
   "execution_count": 2,
   "metadata": {},
   "outputs": [],
   "source": [
    "#Make the normal curve for the given data\n",
    "office1 = stats.norm(90, 15)\n",
    "office2 = stats.norm(100, 20)"
   ]
  },
  {
   "cell_type": "code",
   "execution_count": 9,
   "metadata": {},
   "outputs": [],
   "source": [
    "#We're comparing two groups, so we'll nead there means and std-devs.\n",
    "xbar1 = office1.mean()\n",
    "xbar2 = office2.mean()\n",
    "\n",
    "#Trial size was given in question\n",
    "n1 = 40\n",
    "n2 = 50\n",
    "\n",
    "s1 = office1.std()\n",
    "s2 = office2.std()"
   ]
  },
  {
   "cell_type": "code",
   "execution_count": 10,
   "metadata": {},
   "outputs": [],
   "source": [
    "#Taking a little off\n",
    "degf = n1 + n2 - 2"
   ]
  },
  {
   "cell_type": "code",
   "execution_count": 11,
   "metadata": {},
   "outputs": [],
   "source": [
    "#This one is a doozy.\n",
    "s_p = sqrt(((n1 - 1) * s1**2 + (n2 - 1) * s2**2) / (n1 + n2 - 2))"
   ]
  },
  {
   "cell_type": "code",
   "execution_count": 12,
   "metadata": {},
   "outputs": [],
   "source": [
    "#This might be unecessary for this question.\n",
    "standard_error = se = sqrt(s1**2 / n1 + s2**2 / n2)"
   ]
  },
  {
   "cell_type": "code",
   "execution_count": 13,
   "metadata": {},
   "outputs": [],
   "source": [
    "#This is the score we're going to find out.\n",
    "#This is that crazy long 2-Sample T Test formula written out in Python\n",
    "t = (xbar1 - xbar2) / (s_p * sqrt(1/n1 + 1/n2))\n"
   ]
  },
  {
   "cell_type": "code",
   "execution_count": 14,
   "metadata": {},
   "outputs": [
    {
     "data": {
      "text/plain": [
       "-2.6252287036468456"
      ]
     },
     "execution_count": 14,
     "metadata": {},
     "output_type": "execute_result"
    }
   ],
   "source": [
    "t"
   ]
  },
  {
   "cell_type": "code",
   "execution_count": 17,
   "metadata": {},
   "outputs": [
    {
     "data": {
      "text/plain": [
       "0.9948950737753803"
      ]
     },
     "execution_count": 17,
     "metadata": {},
     "output_type": "execute_result"
    }
   ],
   "source": [
    "#more than .99 of t-values are higher than this t score\n",
    "stats.t(degf).sf(t)"
   ]
  },
  {
   "cell_type": "code",
   "execution_count": 18,
   "metadata": {},
   "outputs": [
    {
     "data": {
      "text/plain": [
       "0.005104926224619695"
      ]
     },
     "execution_count": 18,
     "metadata": {},
     "output_type": "execute_result"
    }
   ],
   "source": [
    "stats.t(degf).cdf(t)"
   ]
  },
  {
   "cell_type": "code",
   "execution_count": 19,
   "metadata": {},
   "outputs": [
    {
     "data": {
      "text/plain": [
       "0.013882685754167083"
      ]
     },
     "execution_count": 19,
     "metadata": {},
     "output_type": "execute_result"
    }
   ],
   "source": [
    "stats.t(degf).pdf(t)"
   ]
  },
  {
   "cell_type": "code",
   "execution_count": null,
   "metadata": {},
   "outputs": [],
   "source": [
    "#Got these from an online 2-sample T-Test app\n",
    "# Equal Variances\n",
    "# Pooled Standard Deviation: 17.9567\n",
    "# Pooled DF: 88\n",
    "# 95% Confidence Interval for the Difference ( -17.3355 , -2.6645 )\n",
    "\n",
    "# Test Statistic t= -2.6252\n",
    "# Population 1 ≠ Population 2: P-Value = 0.0102\n",
    "# Population 1 < Population 2: P-Value = 0.9949\n",
    "# Population 1 > Population 2: P-Value = 0.0051"
   ]
  },
  {
   "cell_type": "code",
   "execution_count": 22,
   "metadata": {},
   "outputs": [],
   "source": [
    "mpg = data('mpg')"
   ]
  },
  {
   "cell_type": "code",
   "execution_count": 23,
   "metadata": {},
   "outputs": [],
   "source": [
    "mpg.trans = mpg.trans.str[:-4]"
   ]
  },
  {
   "cell_type": "code",
   "execution_count": 26,
   "metadata": {},
   "outputs": [
    {
     "data": {
      "text/html": [
       "<div>\n",
       "<style scoped>\n",
       "    .dataframe tbody tr th:only-of-type {\n",
       "        vertical-align: middle;\n",
       "    }\n",
       "\n",
       "    .dataframe tbody tr th {\n",
       "        vertical-align: top;\n",
       "    }\n",
       "\n",
       "    .dataframe thead th {\n",
       "        text-align: right;\n",
       "    }\n",
       "</style>\n",
       "<table border=\"1\" class=\"dataframe\">\n",
       "  <thead>\n",
       "    <tr style=\"text-align: right;\">\n",
       "      <th></th>\n",
       "      <th>manufacturer</th>\n",
       "      <th>model</th>\n",
       "      <th>displ</th>\n",
       "      <th>year</th>\n",
       "      <th>cyl</th>\n",
       "      <th>trans</th>\n",
       "      <th>drv</th>\n",
       "      <th>cty</th>\n",
       "      <th>hwy</th>\n",
       "      <th>fl</th>\n",
       "      <th>class</th>\n",
       "    </tr>\n",
       "  </thead>\n",
       "  <tbody>\n",
       "    <tr>\n",
       "      <th>1</th>\n",
       "      <td>audi</td>\n",
       "      <td>a4</td>\n",
       "      <td>1.8</td>\n",
       "      <td>1999</td>\n",
       "      <td>4</td>\n",
       "      <td>auto</td>\n",
       "      <td>f</td>\n",
       "      <td>18</td>\n",
       "      <td>29</td>\n",
       "      <td>p</td>\n",
       "      <td>compact</td>\n",
       "    </tr>\n",
       "    <tr>\n",
       "      <th>2</th>\n",
       "      <td>audi</td>\n",
       "      <td>a4</td>\n",
       "      <td>1.8</td>\n",
       "      <td>1999</td>\n",
       "      <td>4</td>\n",
       "      <td>manual</td>\n",
       "      <td>f</td>\n",
       "      <td>21</td>\n",
       "      <td>29</td>\n",
       "      <td>p</td>\n",
       "      <td>compact</td>\n",
       "    </tr>\n",
       "    <tr>\n",
       "      <th>3</th>\n",
       "      <td>audi</td>\n",
       "      <td>a4</td>\n",
       "      <td>2.0</td>\n",
       "      <td>2008</td>\n",
       "      <td>4</td>\n",
       "      <td>manual</td>\n",
       "      <td>f</td>\n",
       "      <td>20</td>\n",
       "      <td>31</td>\n",
       "      <td>p</td>\n",
       "      <td>compact</td>\n",
       "    </tr>\n",
       "    <tr>\n",
       "      <th>4</th>\n",
       "      <td>audi</td>\n",
       "      <td>a4</td>\n",
       "      <td>2.0</td>\n",
       "      <td>2008</td>\n",
       "      <td>4</td>\n",
       "      <td>auto</td>\n",
       "      <td>f</td>\n",
       "      <td>21</td>\n",
       "      <td>30</td>\n",
       "      <td>p</td>\n",
       "      <td>compact</td>\n",
       "    </tr>\n",
       "    <tr>\n",
       "      <th>5</th>\n",
       "      <td>audi</td>\n",
       "      <td>a4</td>\n",
       "      <td>2.8</td>\n",
       "      <td>1999</td>\n",
       "      <td>6</td>\n",
       "      <td>auto</td>\n",
       "      <td>f</td>\n",
       "      <td>16</td>\n",
       "      <td>26</td>\n",
       "      <td>p</td>\n",
       "      <td>compact</td>\n",
       "    </tr>\n",
       "  </tbody>\n",
       "</table>\n",
       "</div>"
      ],
      "text/plain": [
       "  manufacturer model  displ  year  cyl   trans drv  cty  hwy fl    class\n",
       "1         audi    a4    1.8  1999    4    auto   f   18   29  p  compact\n",
       "2         audi    a4    1.8  1999    4  manual   f   21   29  p  compact\n",
       "3         audi    a4    2.0  2008    4  manual   f   20   31  p  compact\n",
       "4         audi    a4    2.0  2008    4    auto   f   21   30  p  compact\n",
       "5         audi    a4    2.8  1999    6    auto   f   16   26  p  compact"
      ]
     },
     "execution_count": 26,
     "metadata": {},
     "output_type": "execute_result"
    }
   ],
   "source": [
    "mpg.head()"
   ]
  },
  {
   "cell_type": "code",
   "execution_count": 35,
   "metadata": {},
   "outputs": [],
   "source": [
    "pop_city_mileage = mpg.cty.mean()\n",
    "auto_city_mileage = mpg[mpg.trans == 'auto'].cty"
   ]
  },
  {
   "cell_type": "code",
   "execution_count": 36,
   "metadata": {},
   "outputs": [
    {
     "data": {
      "text/plain": [
       "Ttest_1sampResult(statistic=-2.9001322447463838, pvalue=0.004268839797630685)"
      ]
     },
     "execution_count": 36,
     "metadata": {},
     "output_type": "execute_result"
    }
   ],
   "source": [
    "stats.ttest_1samp(auto_city_mileage, pop_city_mileage)\n"
   ]
  },
  {
   "cell_type": "code",
   "execution_count": 37,
   "metadata": {},
   "outputs": [],
   "source": [
    "#Do volkswagens get better mileage than the all other cars on the highway?\n",
    "#null = Volksagen.mean == all_cars.mean"
   ]
  },
  {
   "cell_type": "code",
   "execution_count": 39,
   "metadata": {},
   "outputs": [],
   "source": [
    "volks_hwy_mileage = mpg[mpg.manufacturer == 'volkswagen'].hwy"
   ]
  },
  {
   "cell_type": "code",
   "execution_count": 42,
   "metadata": {},
   "outputs": [
    {
     "data": {
      "text/plain": [
       "23.44017094017094"
      ]
     },
     "execution_count": 42,
     "metadata": {},
     "output_type": "execute_result"
    }
   ],
   "source": [
    "mpg.hwy.mean()\n"
   ]
  },
  {
   "cell_type": "code",
   "execution_count": 43,
   "metadata": {},
   "outputs": [
    {
     "data": {
      "text/plain": [
       "Ttest_1sampResult(statistic=5.652041311757083, pvalue=6.068818710469792e-06)"
      ]
     },
     "execution_count": 43,
     "metadata": {},
     "output_type": "execute_result"
    }
   ],
   "source": [
    "stats.ttest_1samp(volks_hwy_mileage, mpg.hwy.mean())"
   ]
  },
  {
   "cell_type": "markdown",
   "metadata": {},
   "source": [
    "Is there a linear relationship between city and highway mileage?\n",
    "\n"
   ]
  },
  {
   "cell_type": "code",
   "execution_count": 45,
   "metadata": {},
   "outputs": [],
   "source": [
    "x = mpg.hwy"
   ]
  },
  {
   "cell_type": "code",
   "execution_count": 46,
   "metadata": {},
   "outputs": [],
   "source": [
    "y = mpg.cty"
   ]
  },
  {
   "cell_type": "code",
   "execution_count": 47,
   "metadata": {},
   "outputs": [],
   "source": [
    "r, p = stats.pearsonr(x,y)"
   ]
  },
  {
   "cell_type": "code",
   "execution_count": 48,
   "metadata": {},
   "outputs": [
    {
     "data": {
      "text/plain": [
       "0.9559159136495723"
      ]
     },
     "execution_count": 48,
     "metadata": {},
     "output_type": "execute_result"
    }
   ],
   "source": [
    "r"
   ]
  },
  {
   "cell_type": "code",
   "execution_count": 49,
   "metadata": {},
   "outputs": [
    {
     "data": {
      "text/plain": [
       "1.8683071952618993e-125"
      ]
     },
     "execution_count": 49,
     "metadata": {},
     "output_type": "execute_result"
    }
   ],
   "source": [
    "p"
   ]
  },
  {
   "cell_type": "markdown",
   "metadata": {},
   "source": [
    "Is there a linear relationship between engine displacment and city mileage?"
   ]
  },
  {
   "cell_type": "code",
   "execution_count": 50,
   "metadata": {},
   "outputs": [],
   "source": [
    "X = mpg.displ\n",
    "Y = mpg.cty"
   ]
  },
  {
   "cell_type": "code",
   "execution_count": 51,
   "metadata": {},
   "outputs": [],
   "source": [
    "R, P = stats.pearsonr(X,Y)"
   ]
  },
  {
   "cell_type": "code",
   "execution_count": 52,
   "metadata": {},
   "outputs": [
    {
     "data": {
      "text/plain": [
       "-0.7985239689348551"
      ]
     },
     "execution_count": 52,
     "metadata": {},
     "output_type": "execute_result"
    }
   ],
   "source": [
    "R"
   ]
  },
  {
   "cell_type": "code",
   "execution_count": 53,
   "metadata": {},
   "outputs": [
    {
     "data": {
      "text/plain": [
       "4.737914890205637e-53"
      ]
     },
     "execution_count": 53,
     "metadata": {},
     "output_type": "execute_result"
    }
   ],
   "source": [
    "P"
   ]
  },
  {
   "cell_type": "markdown",
   "metadata": {},
   "source": [
    "There is a negative correlation that is statistically significant between engine displacement and city mileage."
   ]
  },
  {
   "cell_type": "markdown",
   "metadata": {},
   "source": [
    "1.\n",
    "Use the telco_churn data.  "
   ]
  },
  {
   "cell_type": "code",
   "execution_count": 91,
   "metadata": {},
   "outputs": [],
   "source": [
    "url = get_db_url(user, host, password, \"telco_churn\")\n",
    "df = make_df_from_db(url, 'customers')"
   ]
  },
  {
   "cell_type": "markdown",
   "metadata": {},
   "source": [
    "Does tenure correlate with monthly charges? Total charges?  service?"
   ]
  },
  {
   "cell_type": "code",
   "execution_count": 88,
   "metadata": {
    "scrolled": true
   },
   "outputs": [],
   "source": [
    "#correlation between tenure and monthly charges\n",
    "corr, pvalue = stats.pearsonr(df.tenure, df.monthly_charges)\n",
    "\n"
   ]
  },
  {
   "cell_type": "code",
   "execution_count": 87,
   "metadata": {
    "scrolled": true
   },
   "outputs": [
    {
     "name": "stdout",
     "output_type": "stream",
     "text": [
      "The correlation is at 0.24789985628615013 and the p-value is 4.0940449915016345e-99, so we can reject the null hypothesis.\n"
     ]
    }
   ],
   "source": [
    "print(f\"The correlation is at {corr} and the p-value is {pvalue}, so we can reject the null hypothesis.\")"
   ]
  },
  {
   "cell_type": "markdown",
   "metadata": {},
   "source": [
    "What happens if you control for phone and internet"
   ]
  },
  {
   "cell_type": "code",
   "execution_count": null,
   "metadata": {},
   "outputs": [],
   "source": []
  },
  {
   "cell_type": "code",
   "execution_count": null,
   "metadata": {},
   "outputs": [],
   "source": []
  },
  {
   "cell_type": "markdown",
   "metadata": {},
   "source": [
    "2. Use the employees database.\n",
    "\n"
   ]
  },
  {
   "cell_type": "code",
   "execution_count": 128,
   "metadata": {},
   "outputs": [],
   "source": [
    "url = get_db_url(user, host, password, \"employees\")\n",
    "df = make_df_from_db(url, 'employees')"
   ]
  },
  {
   "cell_type": "code",
   "execution_count": 129,
   "metadata": {},
   "outputs": [
    {
     "data": {
      "text/plain": [
       "Index(['emp_no', 'birth_date', 'first_name', 'last_name', 'gender',\n",
       "       'hire_date'],\n",
       "      dtype='object')"
      ]
     },
     "execution_count": 129,
     "metadata": {},
     "output_type": "execute_result"
    }
   ],
   "source": [
    "df.columns"
   ]
  },
  {
   "cell_type": "code",
   "execution_count": 130,
   "metadata": {},
   "outputs": [
    {
     "data": {
      "text/plain": [
       "0         1986-06-26\n",
       "1         1985-11-21\n",
       "2         1986-08-28\n",
       "3         1986-12-01\n",
       "4         1989-09-12\n",
       "5         1989-06-02\n",
       "6         1989-02-10\n",
       "7         1994-09-15\n",
       "8         1985-02-18\n",
       "9         1989-08-24\n",
       "10        1990-01-22\n",
       "11        1992-12-18\n",
       "12        1985-10-20\n",
       "13        1987-03-11\n",
       "14        1987-07-02\n",
       "15        1995-01-27\n",
       "16        1993-08-03\n",
       "17        1987-04-03\n",
       "18        1999-04-30\n",
       "19        1991-01-26\n",
       "20        1988-02-10\n",
       "21        1995-08-22\n",
       "22        1989-12-17\n",
       "23        1997-05-19\n",
       "24        1987-08-17\n",
       "25        1995-03-20\n",
       "26        1989-07-07\n",
       "27        1991-10-22\n",
       "28        1985-11-20\n",
       "29        1994-02-17\n",
       "30        1991-09-01\n",
       "31        1990-06-20\n",
       "32        1987-03-18\n",
       "33        1988-09-21\n",
       "34        1988-09-05\n",
       "35        1992-01-03\n",
       "36        1990-12-05\n",
       "37        1989-09-20\n",
       "38        1988-01-19\n",
       "39        1993-02-14\n",
       "40        1989-11-12\n",
       "41        1993-03-21\n",
       "42        1990-10-20\n",
       "43        1994-05-21\n",
       "44        1989-09-02\n",
       "45        1992-06-20\n",
       "46        1989-03-31\n",
       "47        1985-02-24\n",
       "48        1992-05-04\n",
       "49        1990-12-25\n",
       "50        1992-10-15\n",
       "51        1988-05-21\n",
       "52        1986-02-04\n",
       "53        1995-03-13\n",
       "54        1992-04-27\n",
       "55        1990-02-01\n",
       "56        1992-01-15\n",
       "57        1987-04-13\n",
       "58        1991-06-26\n",
       "59        1987-11-02\n",
       "60        1985-09-17\n",
       "61        1991-08-30\n",
       "62        1989-04-08\n",
       "63        1985-11-20\n",
       "64        1988-05-18\n",
       "65        1986-02-26\n",
       "66        1987-03-04\n",
       "67        1987-08-07\n",
       "68        1989-11-05\n",
       "69        1985-10-14\n",
       "70        1987-10-01\n",
       "71        1988-07-21\n",
       "72        1991-12-01\n",
       "73        1990-08-13\n",
       "74        1987-03-19\n",
       "75        1985-07-09\n",
       "76        1990-03-02\n",
       "77        1987-05-26\n",
       "78        1986-03-27\n",
       "79        1985-11-19\n",
       "80        1986-10-30\n",
       "81        1990-01-03\n",
       "82        1987-03-31\n",
       "83        1995-12-15\n",
       "84        1994-04-09\n",
       "             ...    \n",
       "299939    1989-02-22\n",
       "299940    1997-05-18\n",
       "299941    1986-02-24\n",
       "299942    1992-05-13\n",
       "299943    1991-01-09\n",
       "299944    1986-04-17\n",
       "299945    1989-08-19\n",
       "299946    1986-07-03\n",
       "299947    1993-04-08\n",
       "299948    1998-08-04\n",
       "299949    1991-10-29\n",
       "299950    1985-08-16\n",
       "299951    1988-03-13\n",
       "299952    1985-03-30\n",
       "299953    1996-05-12\n",
       "299954    1988-03-23\n",
       "299955    1988-04-27\n",
       "299956    1990-09-27\n",
       "299957    1993-05-28\n",
       "299958    1991-01-02\n",
       "299959    1991-09-27\n",
       "299960    1994-10-31\n",
       "299961    1987-02-03\n",
       "299962    1993-04-18\n",
       "299963    1988-11-27\n",
       "299964    1986-04-25\n",
       "299965    1994-02-04\n",
       "299966    1997-02-10\n",
       "299967    1987-09-09\n",
       "299968    1988-07-03\n",
       "299969    1987-03-02\n",
       "299970    1986-02-21\n",
       "299971    1989-02-19\n",
       "299972    1993-01-28\n",
       "299973    1987-01-31\n",
       "299974    1991-06-05\n",
       "299975    1985-03-17\n",
       "299976    1990-01-07\n",
       "299977    1985-02-23\n",
       "299978    1990-08-09\n",
       "299979    1993-03-06\n",
       "299980    1994-10-12\n",
       "299981    1987-02-25\n",
       "299982    1989-12-17\n",
       "299983    1991-11-08\n",
       "299984    1989-09-16\n",
       "299985    1988-07-04\n",
       "299986    1995-06-20\n",
       "299987    1989-08-07\n",
       "299988    1988-11-10\n",
       "299989    1985-05-26\n",
       "299990    1985-06-13\n",
       "299991    1996-08-15\n",
       "299992    1991-10-08\n",
       "299993    1992-02-16\n",
       "299994    1994-08-06\n",
       "299995    1989-02-26\n",
       "299996    1989-11-23\n",
       "299997    1994-02-01\n",
       "299998    1989-09-16\n",
       "299999    1992-01-23\n",
       "300000    1988-12-26\n",
       "300001    1996-09-17\n",
       "300002    1990-05-24\n",
       "300003    1994-01-04\n",
       "300004    1991-02-11\n",
       "300005    1991-03-07\n",
       "300006    1986-02-21\n",
       "300007    1989-08-28\n",
       "300008    1985-09-11\n",
       "300009    1997-02-11\n",
       "300010    1985-08-11\n",
       "300011    1998-09-20\n",
       "300012    1986-06-06\n",
       "300013    1993-10-28\n",
       "300014    1985-10-10\n",
       "300015    1989-01-12\n",
       "300016    1987-05-10\n",
       "300017    1997-04-07\n",
       "300018    1990-04-24\n",
       "300019    1993-01-12\n",
       "300020    1990-09-27\n",
       "300021    1986-04-21\n",
       "300022    1993-10-13\n",
       "300023    1997-11-30\n",
       "Name: hire_date, Length: 300024, dtype: object"
      ]
     },
     "execution_count": 130,
     "metadata": {},
     "output_type": "execute_result"
    }
   ],
   "source": []
  },
  {
   "cell_type": "markdown",
   "metadata": {},
   "source": [
    "Is there a relationship between how long an employee has been with the company and their salary?"
   ]
  },
  {
   "cell_type": "markdown",
   "metadata": {},
   "source": [
    "Is there a relationship between how long an employee has been with the company and the number of titles they have had?"
   ]
  },
  {
   "cell_type": "code",
   "execution_count": null,
   "metadata": {},
   "outputs": [],
   "source": []
  },
  {
   "cell_type": "code",
   "execution_count": null,
   "metadata": {},
   "outputs": [],
   "source": [
    "url = get_db_url(user, host, password, \"telco_churn\")\n",
    "df = make_df_from_db(url, 'customers')"
   ]
  }
 ],
 "metadata": {
  "kernelspec": {
   "display_name": "Python 3",
   "language": "python",
   "name": "python3"
  },
  "language_info": {
   "codemirror_mode": {
    "name": "ipython",
    "version": 3
   },
   "file_extension": ".py",
   "mimetype": "text/x-python",
   "name": "python",
   "nbconvert_exporter": "python",
   "pygments_lexer": "ipython3",
   "version": "3.7.3"
  }
 },
 "nbformat": 4,
 "nbformat_minor": 2
}
